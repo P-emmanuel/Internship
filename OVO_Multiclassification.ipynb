{
 "cells": [
  {
   "cell_type": "markdown",
   "metadata": {},
   "source": [
    "Now the dataset is composed of 5 subtypes of lung cancer and it is severely imbalanced. I have developped a round robin approach using forward features selection and either logistic regression or random forest as classifiers."
   ]
  },
  {
   "cell_type": "code",
   "execution_count": 48,
   "metadata": {},
   "outputs": [],
   "source": [
    "import numpy as np\n",
    "import pandas as pd\n",
    "import matplotlib.pyplot as plt\n",
    "from numpy import array\n",
    "from sklearn import preprocessing\n",
    "from numpy import cov\n",
    "import scipy.linalg as la\n",
    "from sklearn.linear_model import LogisticRegression\n",
    "from sklearn.utils import resample\n",
    "from sklearn.model_selection import train_test_split\n",
    "\n",
    "df = pd.read_excel(r'C:\\Users\\p-emm\\Desktop\\Stage_M1\\Base_de_données\\Features of IA subtypes.xlsx')\n",
    "df = df.sample(frac=1)\n",
    "X = df.iloc[:,1:-1]\n",
    "Y = df.iloc[:,-1]\n",
    "\n",
    "X = X.values\n",
    "Y = Y.values"
   ]
  },
  {
   "cell_type": "code",
   "execution_count": 49,
   "metadata": {},
   "outputs": [
    {
     "name": "stderr",
     "output_type": "stream",
     "text": [
      "C:\\Users\\p-emm\\Anaconda3\\lib\\site-packages\\sklearn\\utils\\validation.py:595: DataConversionWarning: Data with input dtype object was converted to float64 by MinMaxScaler.\n",
      "  warnings.warn(msg, DataConversionWarning)\n",
      "C:\\Users\\p-emm\\Anaconda3\\lib\\site-packages\\sklearn\\utils\\validation.py:595: DataConversionWarning: Data with input dtype object was converted to float64 by MinMaxScaler.\n",
      "  warnings.warn(msg, DataConversionWarning)\n"
     ]
    }
   ],
   "source": [
    "X = X.T\n",
    "#Preprocessing the data by removing the outliers using the interquartile range method\n",
    "for index_element,element in enumerate(X):\n",
    "    Q1=np.percentile(element,25)\n",
    "    Q3=np.percentile(element,75)\n",
    "    med = np.percentile(element,50)\n",
    "    IQR = Q3-Q1\n",
    "    for index_value,value in enumerate(element):\n",
    "        if value < (Q1 - 1.5 * IQR) or value > (Q3 + 1.5 * IQR):\n",
    "            X[index_element,index_value] = med\n",
    "X=X.T\n",
    "#Seperating the data into a training set and a validation set\n",
    "X_train, X_test, Y_train, Y_test = train_test_split(X,Y,test_size=0.2,random_state=5,shuffle=True,stratify=Y)\n",
    "\n",
    "#Scaling the data\n",
    "min_max_scaler = preprocessing.MinMaxScaler(feature_range=(0,1))\n",
    "X_train = min_max_scaler.fit_transform(X_train)\n",
    "X_test = min_max_scaler.fit_transform(X_test)\n",
    "\n",
    "\n",
    "\n",
    "X_train = pd.DataFrame(X_train)\n",
    "Y_train = pd.DataFrame(Y_train)"
   ]
  },
  {
   "cell_type": "markdown",
   "metadata": {},
   "source": [
    "Since some subtypes are under-represented and the dataset not large enough, we are going to proceed to upsampling."
   ]
  },
  {
   "cell_type": "code",
   "execution_count": 50,
   "metadata": {},
   "outputs": [
    {
     "name": "stdout",
     "output_type": "stream",
     "text": [
      "(39, 831)\n",
      "(36, 831)\n",
      "(13, 831)\n",
      "(11, 831)\n",
      "(9, 831)\n"
     ]
    }
   ],
   "source": [
    "### STANDARD UPSAMPLING\n",
    "\n",
    "X_conc = pd.concat([X_train,Y_train],axis=1)\n",
    "\n",
    "little_y = X_conc.iloc[:,-1]\n",
    "\n",
    "lepidic = X_conc.loc[little_y == 1]\n",
    "acinar = X_conc.loc[little_y == 3]\n",
    "papillary = X_conc.loc[little_y == 2]\n",
    "micro_papillary = X_conc.loc[little_y == 4]\n",
    "solid = X_conc.loc[little_y == 5]\n",
    "\n",
    "lepidic = resample(lepidic,replace=True,n_samples=60,random_state=27)\n",
    "\n",
    "acinar = resample(acinar,replace=True,n_samples=58,random_state=27)\n",
    "\n",
    "papillary = resample(papillary,replace=True,n_samples=52,random_state=27)\n",
    "\n",
    "micro_papillary = resample(micro_papillary,replace=True,n_samples=49,random_state=7)\n",
    "\n",
    "solid = resample(solid,replace=True,n_samples=40,random_state=2)\n",
    "\n",
    "upsampled = pd.concat([lepidic,acinar,papillary,micro_papillary,solid])\n",
    "upsampled = upsampled.sample(frac=1)\n",
    "X_train = upsampled.iloc[:,:-1]\n",
    "Y_train = upsampled.iloc[:,-1]\n",
    "X_train = X_train.values\n",
    "Y_train = Y_train.values\n",
    "\n",
    "X_train = pd.DataFrame(X_train)\n",
    "Y_train = pd.DataFrame(Y_train)"
   ]
  },
  {
   "cell_type": "code",
   "execution_count": 51,
   "metadata": {},
   "outputs": [],
   "source": [
    "#Reassembling the dataset together\n",
    "X_conc = pd.concat([X_train,Y_train],axis=1)\n",
    "little_y = X_conc.iloc[:,-1]\n",
    "\n",
    "lepidic = X_conc.loc[little_y == 1]\n",
    "papillary = X_conc.loc[little_y == 2]\n",
    "acinar = X_conc.loc[little_y == 3]\n",
    "micro_papillary = X_conc.loc[little_y == 4]\n",
    "solid = X_conc.loc[little_y == 5]"
   ]
  },
  {
   "cell_type": "code",
   "execution_count": 52,
   "metadata": {},
   "outputs": [],
   "source": [
    "from sklearn.ensemble import RandomForestClassifier\n",
    "from sklearn.metrics import accuracy_score\n",
    "from sklearn.metrics import f1_score\n",
    "from sklearn.metrics import recall_score\n",
    "from sklearn.model_selection import GridSearchCV\n",
    "from sklearn.pipeline import Pipeline\n",
    "from sklearn.feature_selection import SelectFromModel\n",
    "from sklearn.neighbors import KNeighborsClassifier\n",
    "from sklearn.feature_selection import RFECV\n",
    "from sklearn.model_selection import StratifiedKFold\n",
    "from sklearn.svm import LinearSVC\n",
    "from mlxtend.feature_selection import SequentialFeatureSelector as sfs\n",
    "from sklearn.svm import LinearSVC\n",
    "\n",
    "from sklearn.metrics import accuracy_score\n",
    "from sklearn.metrics import f1_score\n",
    "from sklearn.metrics import recall_score"
   ]
  },
  {
   "cell_type": "markdown",
   "metadata": {},
   "source": [
    "Round-Robin consists in building a binary classifier for every possible combination of two subtypes:"
   ]
  },
  {
   "cell_type": "code",
   "execution_count": 53,
   "metadata": {},
   "outputs": [
    {
     "name": "stderr",
     "output_type": "stream",
     "text": [
      "[Parallel(n_jobs=1)]: Using backend SequentialBackend with 1 concurrent workers.\n",
      "[Parallel(n_jobs=1)]: Done   1 out of   1 | elapsed:    2.9s remaining:    0.0s\n",
      "[Parallel(n_jobs=1)]: Done 830 out of 830 | elapsed:  2.5min finished\n",
      "\n",
      "[2019-09-02 02:26:12] Features: 1/5 -- score: 0.95[Parallel(n_jobs=1)]: Using backend SequentialBackend with 1 concurrent workers.\n",
      "[Parallel(n_jobs=1)]: Done   1 out of   1 | elapsed:    0.1s remaining:    0.0s\n",
      "[Parallel(n_jobs=1)]: Done 829 out of 829 | elapsed:  2.5min finished\n",
      "[Parallel(n_jobs=1)]: Using backend SequentialBackend with 1 concurrent workers.\n",
      "[Parallel(n_jobs=1)]: Done   1 out of   1 | elapsed:    0.1s remaining:    0.0s\n",
      "[Parallel(n_jobs=1)]: Done   1 out of   1 | elapsed:    0.1s finished\n",
      "\n",
      "[2019-09-02 02:28:40] Features: 2/5 -- score: 0.975[Parallel(n_jobs=1)]: Using backend SequentialBackend with 1 concurrent workers.\n",
      "[Parallel(n_jobs=1)]: Done   1 out of   1 | elapsed:    0.1s remaining:    0.0s\n",
      "[Parallel(n_jobs=1)]: Done 828 out of 828 | elapsed:  2.4min finished\n",
      "[Parallel(n_jobs=1)]: Using backend SequentialBackend with 1 concurrent workers.\n",
      "[Parallel(n_jobs=1)]: Done   1 out of   1 | elapsed:    0.1s remaining:    0.0s\n",
      "[Parallel(n_jobs=1)]: Done   2 out of   2 | elapsed:    0.2s finished\n",
      "\n",
      "[2019-09-02 02:31:03] Features: 3/5 -- score: 0.9833333333333334[Parallel(n_jobs=1)]: Using backend SequentialBackend with 1 concurrent workers.\n",
      "[Parallel(n_jobs=1)]: Done   1 out of   1 | elapsed:    0.1s remaining:    0.0s\n",
      "[Parallel(n_jobs=1)]: Done 827 out of 827 | elapsed:  2.4min finished\n",
      "[Parallel(n_jobs=1)]: Using backend SequentialBackend with 1 concurrent workers.\n",
      "[Parallel(n_jobs=1)]: Done   1 out of   1 | elapsed:    0.1s remaining:    0.0s\n",
      "[Parallel(n_jobs=1)]: Done   3 out of   3 | elapsed:    0.4s finished\n",
      "\n",
      "[2019-09-02 02:33:25] Features: 4/5 -- score: 0.9833333333333334[Parallel(n_jobs=1)]: Using backend SequentialBackend with 1 concurrent workers.\n",
      "[Parallel(n_jobs=1)]: Done   1 out of   1 | elapsed:    0.1s remaining:    0.0s\n",
      "[Parallel(n_jobs=1)]: Done 826 out of 826 | elapsed:  2.4min finished\n",
      "[Parallel(n_jobs=1)]: Using backend SequentialBackend with 1 concurrent workers.\n",
      "[Parallel(n_jobs=1)]: Done   1 out of   1 | elapsed:    0.1s remaining:    0.0s\n"
     ]
    },
    {
     "name": "stdout",
     "output_type": "stream",
     "text": [
      "1.0\n"
     ]
    },
    {
     "name": "stderr",
     "output_type": "stream",
     "text": [
      "[Parallel(n_jobs=1)]: Done   4 out of   4 | elapsed:    0.6s finished\n",
      "\n",
      "[2019-09-02 02:35:49] Features: 5/5 -- score: 0.9833333333333334"
     ]
    }
   ],
   "source": [
    "#Lepidic and Acinar subtypes (LA)\n",
    "LA = pd.concat([lepidic,acinar])\n",
    "LA = LA.sample(frac=1)\n",
    "X_LA_train = LA.iloc[:,:-1]\n",
    "X_LA_train = X_LA_train.values\n",
    "Y_LA_train = LA.iloc[:,-1]\n",
    "Y_LA_train = Y_LA_train.values\n",
    "\n",
    "#Using Forward Feature Selection with KNN approach\n",
    "knn = KNeighborsClassifier(n_neighbors = 5, weights = 'uniform',n_jobs=-1)\n",
    "sfs1 = sfs(knn, \n",
    "           k_features=5, \n",
    "           forward=True, \n",
    "           floating=True, \n",
    "           verbose=2,\n",
    "           scoring='accuracy',\n",
    "           cv=10)\n",
    "\n",
    "sfs1 = sfs1.fit(X_LA_train, Y_LA_train)\n",
    "feat_cols_1 = list(sfs1.k_feature_idx_) #list containing the selected features\n",
    "\n",
    "#Implementing the Binary Classifier for Lepidic and Acinar subtypes\n",
    "rfc1 = RandomForestClassifier(n_estimators=30, random_state=42, max_features=2)\n",
    "# rfc1 = LogisticRegression(C=50, penalty='l2',max_iter=5000,solver='liblinear',class_weight='balanced')\n",
    "rfc1.fit(X_LA_train[:, feat_cols_1], Y_LA_train)\n",
    "\n",
    "print(rfc1.score(X_LA_train[:, feat_cols_1],Y_LA_train))"
   ]
  },
  {
   "cell_type": "markdown",
   "metadata": {},
   "source": [
    "We now use the exact same approach for the next couples of subtypes (Lepidic and Micro-Papillary, etc .)"
   ]
  },
  {
   "cell_type": "code",
   "execution_count": 54,
   "metadata": {},
   "outputs": [
    {
     "name": "stderr",
     "output_type": "stream",
     "text": [
      "[Parallel(n_jobs=1)]: Using backend SequentialBackend with 1 concurrent workers.\n",
      "[Parallel(n_jobs=1)]: Done   1 out of   1 | elapsed:    0.1s remaining:    0.0s\n",
      "[Parallel(n_jobs=1)]: Done 830 out of 830 | elapsed:  2.3min finished\n",
      "\n",
      "[2019-09-02 02:38:05] Features: 1/3 -- score: 1.0[Parallel(n_jobs=1)]: Using backend SequentialBackend with 1 concurrent workers.\n",
      "[Parallel(n_jobs=1)]: Done   1 out of   1 | elapsed:    0.1s remaining:    0.0s\n",
      "[Parallel(n_jobs=1)]: Done 829 out of 829 | elapsed:  2.3min finished\n",
      "[Parallel(n_jobs=1)]: Using backend SequentialBackend with 1 concurrent workers.\n",
      "[Parallel(n_jobs=1)]: Done   1 out of   1 | elapsed:    0.1s remaining:    0.0s\n",
      "[Parallel(n_jobs=1)]: Done   1 out of   1 | elapsed:    0.1s finished\n",
      "\n",
      "[2019-09-02 02:40:26] Features: 2/3 -- score: 1.0[Parallel(n_jobs=1)]: Using backend SequentialBackend with 1 concurrent workers.\n",
      "[Parallel(n_jobs=1)]: Done   1 out of   1 | elapsed:    0.1s remaining:    0.0s\n",
      "[Parallel(n_jobs=1)]: Done 828 out of 828 | elapsed:  2.4min finished\n",
      "[Parallel(n_jobs=1)]: Using backend SequentialBackend with 1 concurrent workers.\n",
      "[Parallel(n_jobs=1)]: Done   1 out of   1 | elapsed:    0.1s remaining:    0.0s\n"
     ]
    },
    {
     "name": "stdout",
     "output_type": "stream",
     "text": [
      "0.9908256880733946\n"
     ]
    },
    {
     "name": "stderr",
     "output_type": "stream",
     "text": [
      "[Parallel(n_jobs=1)]: Done   2 out of   2 | elapsed:    0.3s finished\n",
      "\n",
      "[2019-09-02 02:42:49] Features: 3/3 -- score: 1.0"
     ]
    }
   ],
   "source": [
    "LM = pd.concat([lepidic,micro_papillary])\n",
    "LM = LM.sample(frac=1)\n",
    "X_LM_train = LM.iloc[:,:-1]\n",
    "X_LM_train = X_LM_train.values\n",
    "Y_LM_train = LM.iloc[:,-1]\n",
    "Y_LM_train= Y_LM_train.values\n",
    "\n",
    "knn = KNeighborsClassifier(n_neighbors = 4, weights = 'distance',n_jobs=-1)\n",
    "\n",
    "sfs2 = sfs(knn, \n",
    "           k_features=3, \n",
    "           forward=True, \n",
    "           floating=True, \n",
    "           verbose=2,\n",
    "           scoring='accuracy',\n",
    "           cv=10)\n",
    "\n",
    "sfs2 = sfs2.fit(X_LM_train, Y_LM_train)\n",
    "feat_cols_2 = list(sfs2.k_feature_idx_)\n",
    "\n",
    "# rfc2 = RandomForestClassifier(n_estimators=10, random_state=42, max_depth=4)\n",
    "rfc2 = LogisticRegression(C=5, penalty='l2',max_iter=5000,solver='liblinear',class_weight='balanced')\n",
    "rfc2.fit(X_LM_train[:, feat_cols_2], Y_LM_train)\n",
    "\n",
    "print(rfc2.score(X_LM_train[:, feat_cols_2],Y_LM_train))"
   ]
  },
  {
   "cell_type": "code",
   "execution_count": 55,
   "metadata": {},
   "outputs": [
    {
     "name": "stderr",
     "output_type": "stream",
     "text": [
      "[Parallel(n_jobs=1)]: Using backend SequentialBackend with 1 concurrent workers.\n",
      "[Parallel(n_jobs=1)]: Done   1 out of   1 | elapsed:    0.1s remaining:    0.0s\n",
      "[Parallel(n_jobs=1)]: Done 830 out of 830 | elapsed:  2.4min finished\n",
      "\n",
      "[2019-09-02 02:45:11] Features: 1/3 -- score: 1.0[Parallel(n_jobs=1)]: Using backend SequentialBackend with 1 concurrent workers.\n",
      "[Parallel(n_jobs=1)]: Done   1 out of   1 | elapsed:    0.1s remaining:    0.0s\n",
      "[Parallel(n_jobs=1)]: Done 829 out of 829 | elapsed:  2.4min finished\n",
      "[Parallel(n_jobs=1)]: Using backend SequentialBackend with 1 concurrent workers.\n",
      "[Parallel(n_jobs=1)]: Done   1 out of   1 | elapsed:    0.0s remaining:    0.0s\n",
      "[Parallel(n_jobs=1)]: Done   2 out of   2 | elapsed:    0.2s finished\n",
      "\n",
      "[2019-09-02 02:47:34] Features: 2/3 -- score: 1.0[Parallel(n_jobs=1)]: Using backend SequentialBackend with 1 concurrent workers.\n",
      "[Parallel(n_jobs=1)]: Done   1 out of   1 | elapsed:    0.1s remaining:    0.0s\n",
      "[Parallel(n_jobs=1)]: Done 828 out of 828 | elapsed:  1.9min finished\n",
      "[Parallel(n_jobs=1)]: Using backend SequentialBackend with 1 concurrent workers.\n",
      "[Parallel(n_jobs=1)]: Done   1 out of   1 | elapsed:    0.0s remaining:    0.0s\n"
     ]
    },
    {
     "name": "stdout",
     "output_type": "stream",
     "text": [
      "1.0\n"
     ]
    },
    {
     "name": "stderr",
     "output_type": "stream",
     "text": [
      "[Parallel(n_jobs=1)]: Done   2 out of   2 | elapsed:    0.2s finished\n",
      "\n",
      "[2019-09-02 02:49:29] Features: 3/3 -- score: 1.0"
     ]
    }
   ],
   "source": [
    "LP = pd.concat([lepidic,papillary])\n",
    "LP = LP.sample(frac=1)\n",
    "X_LP_train = LP.iloc[:,:-1]\n",
    "X_LP_train = X_LP_train.values\n",
    "Y_LP_train = LP.iloc[:,-1]\n",
    "Y_LP_train = Y_LP_train.values\n",
    "\n",
    "knn = KNeighborsClassifier(n_neighbors = 4, weights = 'distance',n_jobs=-1)\n",
    "\n",
    "sfs3 = sfs(knn, \n",
    "           k_features=3, \n",
    "           forward=True, \n",
    "           floating=True, \n",
    "           verbose=2,\n",
    "           scoring='accuracy',\n",
    "           cv=10)\n",
    "\n",
    "sfs3 = sfs3.fit(X_LP_train, Y_LP_train)\n",
    "feat_cols_3 = list(sfs3.k_feature_idx_)\n",
    "\n",
    "rfc3 = RandomForestClassifier(n_estimators=20, random_state=42, max_depth=5)\n",
    "# rfc3 = LogisticRegression(C=100, penalty='l2',max_iter=5000,solver='liblinear',class_weight='balanced')\n",
    "rfc3.fit(X_LP_train[:, feat_cols_3], Y_LP_train)\n",
    "\n",
    "print(rfc3.score(X_LP_train[:, feat_cols_3],Y_LP_train))"
   ]
  },
  {
   "cell_type": "code",
   "execution_count": 56,
   "metadata": {},
   "outputs": [
    {
     "name": "stderr",
     "output_type": "stream",
     "text": [
      "[Parallel(n_jobs=1)]: Using backend SequentialBackend with 1 concurrent workers.\n",
      "[Parallel(n_jobs=1)]: Done   1 out of   1 | elapsed:    0.1s remaining:    0.0s\n",
      "[Parallel(n_jobs=1)]: Done 830 out of 830 | elapsed:  1.8min finished\n",
      "\n",
      "[2019-09-02 02:51:15] Features: 1/3 -- score: 1.0[Parallel(n_jobs=1)]: Using backend SequentialBackend with 1 concurrent workers.\n",
      "[Parallel(n_jobs=1)]: Done   1 out of   1 | elapsed:    0.0s remaining:    0.0s\n",
      "[Parallel(n_jobs=1)]: Done 829 out of 829 | elapsed:  1.7min finished\n",
      "[Parallel(n_jobs=1)]: Using backend SequentialBackend with 1 concurrent workers.\n",
      "[Parallel(n_jobs=1)]: Done   1 out of   1 | elapsed:    0.0s remaining:    0.0s\n",
      "[Parallel(n_jobs=1)]: Done   1 out of   1 | elapsed:    0.0s finished\n",
      "\n",
      "[2019-09-02 02:52:59] Features: 2/3 -- score: 1.0[Parallel(n_jobs=1)]: Using backend SequentialBackend with 1 concurrent workers.\n",
      "[Parallel(n_jobs=1)]: Done   1 out of   1 | elapsed:    0.0s remaining:    0.0s\n",
      "[Parallel(n_jobs=1)]: Done 828 out of 828 | elapsed:  1.7min finished\n",
      "[Parallel(n_jobs=1)]: Using backend SequentialBackend with 1 concurrent workers.\n",
      "[Parallel(n_jobs=1)]: Done   1 out of   1 | elapsed:    0.0s remaining:    0.0s\n"
     ]
    },
    {
     "name": "stdout",
     "output_type": "stream",
     "text": [
      "1.0\n"
     ]
    },
    {
     "name": "stderr",
     "output_type": "stream",
     "text": [
      "[Parallel(n_jobs=1)]: Done   2 out of   2 | elapsed:    0.2s finished\n",
      "\n",
      "[2019-09-02 02:54:44] Features: 3/3 -- score: 1.0"
     ]
    }
   ],
   "source": [
    "LS = pd.concat([lepidic,solid])\n",
    "LS = LS.sample(frac=1)\n",
    "X_LS_train = LS.iloc[:,:-1]\n",
    "X_LS_train = X_LS_train.values\n",
    "Y_LS_train = LS.iloc[:,-1]\n",
    "Y_LS_train = Y_LS_train.values\n",
    "\n",
    "knn = KNeighborsClassifier(n_neighbors = 4, weights = 'distance',n_jobs=-1)\n",
    "\n",
    "sfs4 = sfs(knn, \n",
    "           k_features=3, \n",
    "           forward=True, \n",
    "           floating=True, \n",
    "           verbose=2,\n",
    "           scoring='accuracy',\n",
    "           cv=9)\n",
    "\n",
    "sfs4 = sfs4.fit(X_LS_train, Y_LS_train)\n",
    "feat_cols_4 = list(sfs4.k_feature_idx_)\n",
    "\n",
    "# rfc4 = RandomForestClassifier(n_estimators=10, random_state=42, max_depth=4)\n",
    "rfc4 = LogisticRegression(C=1, penalty='l2',max_iter=5000,solver='liblinear',class_weight='balanced')\n",
    "rfc4.fit(X_LS_train[:, feat_cols_4], Y_LS_train)\n",
    "\n",
    "print(rfc4.score(X_LS_train[:, feat_cols_4],Y_LS_train))"
   ]
  },
  {
   "cell_type": "code",
   "execution_count": 57,
   "metadata": {},
   "outputs": [
    {
     "name": "stderr",
     "output_type": "stream",
     "text": [
      "[Parallel(n_jobs=1)]: Using backend SequentialBackend with 1 concurrent workers.\n",
      "[Parallel(n_jobs=1)]: Done   1 out of   1 | elapsed:    0.0s remaining:    0.0s\n",
      "[Parallel(n_jobs=1)]: Done 830 out of 830 | elapsed:    8.9s finished\n",
      "\n",
      "[2019-09-02 02:54:53] Features: 1/3 -- score: 0.876868686868687[Parallel(n_jobs=1)]: Using backend SequentialBackend with 1 concurrent workers.\n",
      "[Parallel(n_jobs=1)]: Done   1 out of   1 | elapsed:    0.0s remaining:    0.0s\n",
      "[Parallel(n_jobs=1)]: Done 829 out of 829 | elapsed:    7.8s finished\n",
      "[Parallel(n_jobs=1)]: Using backend SequentialBackend with 1 concurrent workers.\n",
      "[Parallel(n_jobs=1)]: Done   1 out of   1 | elapsed:    0.0s remaining:    0.0s\n",
      "[Parallel(n_jobs=1)]: Done   1 out of   1 | elapsed:    0.0s finished\n",
      "\n",
      "[2019-09-02 02:55:01] Features: 2/3 -- score: 0.876868686868687[Parallel(n_jobs=1)]: Using backend SequentialBackend with 1 concurrent workers.\n",
      "[Parallel(n_jobs=1)]: Done   1 out of   1 | elapsed:    0.0s remaining:    0.0s\n"
     ]
    },
    {
     "name": "stdout",
     "output_type": "stream",
     "text": [
      "1.0\n"
     ]
    },
    {
     "name": "stderr",
     "output_type": "stream",
     "text": [
      "[Parallel(n_jobs=1)]: Done 828 out of 828 | elapsed:    7.9s finished\n",
      "[Parallel(n_jobs=1)]: Using backend SequentialBackend with 1 concurrent workers.\n",
      "[Parallel(n_jobs=1)]: Done   1 out of   1 | elapsed:    0.0s remaining:    0.0s\n",
      "[Parallel(n_jobs=1)]: Done   2 out of   2 | elapsed:    0.0s finished\n",
      "\n",
      "[2019-09-02 02:55:09] Features: 3/3 -- score: 0.8677777777777779"
     ]
    }
   ],
   "source": [
    "AM = pd.concat([micro_papillary,acinar])\n",
    "AM = AM.sample(frac=1)\n",
    "X_AM_train = AM.iloc[:,:-1]\n",
    "X_AM_train = X_AM_train.values\n",
    "Y_AM_train = AM.iloc[:,-1]\n",
    "Y_AM_train = Y_AM_train.values\n",
    "\n",
    "# knn = KNeighborsClassifier(n_neighbors = 5, weights = 'distance',n_jobs=-1)\n",
    "knn = LinearSVC(C=0.00001 , class_weight='balanced',max_iter=10000)\n",
    "\n",
    "sfs5 = sfs(knn, \n",
    "           k_features=3, \n",
    "           forward=True, \n",
    "           floating=True, \n",
    "           verbose=2,\n",
    "           scoring='accuracy',\n",
    "           cv=10)\n",
    "\n",
    "sfs5 = sfs5.fit(X_AM_train, Y_AM_train)\n",
    "feat_cols_5 = list(sfs5.k_feature_idx_)\n",
    "\n",
    "rfc5 = RandomForestClassifier(n_estimators=30, random_state=42, max_depth=10)\n",
    "# rfc5 = LogisticRegression(C=50, penalty='l2',max_iter=5000,solver='liblinear',class_weight='balanced')\n",
    "rfc5.fit(X_AM_train[:, feat_cols_5], Y_AM_train)\n",
    "\n",
    "print(rfc5.score(X_AM_train[:, feat_cols_5],Y_AM_train))"
   ]
  },
  {
   "cell_type": "code",
   "execution_count": 58,
   "metadata": {},
   "outputs": [
    {
     "name": "stderr",
     "output_type": "stream",
     "text": [
      "[Parallel(n_jobs=1)]: Using backend SequentialBackend with 1 concurrent workers.\n",
      "[Parallel(n_jobs=1)]: Done   1 out of   1 | elapsed:    0.0s remaining:    0.0s\n",
      "[Parallel(n_jobs=1)]: Done 830 out of 830 | elapsed:    7.8s finished\n",
      "\n",
      "[2019-09-02 02:55:17] Features: 1/5 -- score: 0.6609090909090909[Parallel(n_jobs=1)]: Using backend SequentialBackend with 1 concurrent workers.\n",
      "[Parallel(n_jobs=1)]: Done   1 out of   1 | elapsed:    0.0s remaining:    0.0s\n",
      "[Parallel(n_jobs=1)]: Done 829 out of 829 | elapsed:    7.9s finished\n",
      "[Parallel(n_jobs=1)]: Using backend SequentialBackend with 1 concurrent workers.\n",
      "[Parallel(n_jobs=1)]: Done   1 out of   1 | elapsed:    0.0s remaining:    0.0s\n",
      "[Parallel(n_jobs=1)]: Done   1 out of   1 | elapsed:    0.0s finished\n",
      "\n",
      "[2019-09-02 02:55:25] Features: 2/5 -- score: 0.6740909090909091[Parallel(n_jobs=1)]: Using backend SequentialBackend with 1 concurrent workers.\n",
      "[Parallel(n_jobs=1)]: Done   1 out of   1 | elapsed:    0.0s remaining:    0.0s\n",
      "[Parallel(n_jobs=1)]: Done 828 out of 828 | elapsed:    9.0s finished\n",
      "[Parallel(n_jobs=1)]: Using backend SequentialBackend with 1 concurrent workers.\n",
      "[Parallel(n_jobs=1)]: Done   1 out of   1 | elapsed:    0.0s remaining:    0.0s\n",
      "[Parallel(n_jobs=1)]: Done   2 out of   2 | elapsed:    0.0s finished\n",
      "\n",
      "[2019-09-02 02:55:34] Features: 3/5 -- score: 0.7746969696969697[Parallel(n_jobs=1)]: Using backend SequentialBackend with 1 concurrent workers.\n",
      "[Parallel(n_jobs=1)]: Done   1 out of   1 | elapsed:    0.0s remaining:    0.0s\n",
      "[Parallel(n_jobs=1)]: Done 827 out of 827 | elapsed:    8.5s finished\n",
      "[Parallel(n_jobs=1)]: Using backend SequentialBackend with 1 concurrent workers.\n",
      "[Parallel(n_jobs=1)]: Done   1 out of   1 | elapsed:    0.0s remaining:    0.0s\n",
      "[Parallel(n_jobs=1)]: Done   3 out of   3 | elapsed:    0.0s finished\n",
      "\n",
      "[2019-09-02 02:55:43] Features: 4/5 -- score: 0.8095454545454546[Parallel(n_jobs=1)]: Using backend SequentialBackend with 1 concurrent workers.\n",
      "[Parallel(n_jobs=1)]: Done   1 out of   1 | elapsed:    0.0s remaining:    0.0s\n"
     ]
    },
    {
     "name": "stdout",
     "output_type": "stream",
     "text": [
      "1.0\n"
     ]
    },
    {
     "name": "stderr",
     "output_type": "stream",
     "text": [
      "[Parallel(n_jobs=1)]: Done 826 out of 826 | elapsed:    8.2s finished\n",
      "[Parallel(n_jobs=1)]: Using backend SequentialBackend with 1 concurrent workers.\n",
      "[Parallel(n_jobs=1)]: Done   1 out of   1 | elapsed:    0.0s remaining:    0.0s\n",
      "[Parallel(n_jobs=1)]: Done   4 out of   4 | elapsed:    0.0s finished\n",
      "\n",
      "[2019-09-02 02:55:51] Features: 5/5 -- score: 0.8277272727272728"
     ]
    }
   ],
   "source": [
    "AP = pd.concat([papillary,acinar])\n",
    "AP = AP.sample(frac=1)\n",
    "X_AP_train = AP.iloc[:,:-1]\n",
    "X_AP_train = X_AP_train.values\n",
    "Y_AP_train = AP.iloc[:,-1]\n",
    "Y_AP_train = Y_AP_train.values\n",
    "\n",
    "# knn = KNeighborsClassifier(n_neighbors = 4, weights = 'distance')\n",
    "knn = LinearSVC(C=0.001 , class_weight='balanced',max_iter=10000)\n",
    "\n",
    "sfs6 = sfs(knn, \n",
    "           k_features=5, \n",
    "           forward=True, \n",
    "           floating=True, \n",
    "           verbose=2,\n",
    "           scoring='accuracy',\n",
    "           cv=10)\n",
    "\n",
    "sfs6 = sfs6.fit(X_AP_train, Y_AP_train)\n",
    "feat_cols_6 = list(sfs6.k_feature_idx_)\n",
    "\n",
    "rfc6 = RandomForestClassifier(n_estimators=30, random_state=42, max_depth=10)\n",
    "# rfc6 = LogisticRegression(C=0.0005, penalty='l2',max_iter=5000,solver='liblinear',class_weight='balanced')\n",
    "rfc6.fit(X_AP_train[:, feat_cols_6], Y_AP_train)\n",
    "\n",
    "print(rfc6.score(X_AP_train[:, feat_cols_6],Y_AP_train))"
   ]
  },
  {
   "cell_type": "code",
   "execution_count": 59,
   "metadata": {},
   "outputs": [
    {
     "name": "stderr",
     "output_type": "stream",
     "text": [
      "[Parallel(n_jobs=1)]: Using backend SequentialBackend with 1 concurrent workers.\n",
      "[Parallel(n_jobs=1)]: Done   1 out of   1 | elapsed:    0.0s remaining:    0.0s\n",
      "[Parallel(n_jobs=1)]: Done 830 out of 830 | elapsed:    9.6s finished\n",
      "\n",
      "[2019-09-02 02:56:01] Features: 1/3 -- score: 1.0[Parallel(n_jobs=1)]: Using backend SequentialBackend with 1 concurrent workers.\n",
      "[Parallel(n_jobs=1)]: Done   1 out of   1 | elapsed:    0.0s remaining:    0.0s\n",
      "[Parallel(n_jobs=1)]: Done 829 out of 829 | elapsed:    9.6s finished\n",
      "[Parallel(n_jobs=1)]: Using backend SequentialBackend with 1 concurrent workers.\n",
      "[Parallel(n_jobs=1)]: Done   1 out of   1 | elapsed:    0.0s remaining:    0.0s\n",
      "[Parallel(n_jobs=1)]: Done   1 out of   1 | elapsed:    0.0s finished\n",
      "\n",
      "[2019-09-02 02:56:11] Features: 2/3 -- score: 1.0[Parallel(n_jobs=1)]: Using backend SequentialBackend with 1 concurrent workers.\n",
      "[Parallel(n_jobs=1)]: Done   1 out of   1 | elapsed:    0.0s remaining:    0.0s\n"
     ]
    },
    {
     "name": "stdout",
     "output_type": "stream",
     "text": [
      "1.0\n"
     ]
    },
    {
     "name": "stderr",
     "output_type": "stream",
     "text": [
      "[Parallel(n_jobs=1)]: Done 828 out of 828 | elapsed:    9.6s finished\n",
      "[Parallel(n_jobs=1)]: Using backend SequentialBackend with 1 concurrent workers.\n",
      "[Parallel(n_jobs=1)]: Done   1 out of   1 | elapsed:    0.0s remaining:    0.0s\n",
      "[Parallel(n_jobs=1)]: Done   2 out of   2 | elapsed:    0.0s finished\n",
      "\n",
      "[2019-09-02 02:56:20] Features: 3/3 -- score: 1.0"
     ]
    }
   ],
   "source": [
    "AS = pd.concat([solid,acinar])\n",
    "AS = AS.sample(frac=1)\n",
    "X_AS_train = AS.iloc[:,:-1]\n",
    "X_AS_train = X_AS_train.values\n",
    "Y_AS_train = AS.iloc[:,-1]\n",
    "Y_AS_train = Y_AS_train.values\n",
    "\n",
    "knn = KNeighborsClassifier(n_neighbors = 4, weights = 'distance')\n",
    "\n",
    "sfs7 = sfs(knn, \n",
    "           k_features=3, \n",
    "           forward=True, \n",
    "           floating=True, \n",
    "           verbose=2,\n",
    "           scoring='accuracy',\n",
    "           cv=9)\n",
    "\n",
    "sfs7 = sfs7.fit(X_AS_train, Y_AS_train)\n",
    "feat_cols_7 = list(sfs7.k_feature_idx_)\n",
    "\n",
    "rfc7 = RandomForestClassifier(n_estimators=10, random_state=42, max_depth=4)\n",
    "# rfc7 = LogisticRegression(C=1000, penalty='l2',max_iter=5000,solver='liblinear',class_weight='balanced')\n",
    "rfc7.fit(X_AS_train[:, feat_cols_7], Y_AS_train)\n",
    "\n",
    "print(rfc7.score(X_AS_train[:, feat_cols_7],Y_AS_train))"
   ]
  },
  {
   "cell_type": "code",
   "execution_count": 60,
   "metadata": {},
   "outputs": [
    {
     "name": "stderr",
     "output_type": "stream",
     "text": [
      "[Parallel(n_jobs=1)]: Using backend SequentialBackend with 1 concurrent workers.\n",
      "[Parallel(n_jobs=1)]: Done   1 out of   1 | elapsed:    0.0s remaining:    0.0s\n",
      "[Parallel(n_jobs=1)]: Done 830 out of 830 | elapsed:   10.4s finished\n",
      "\n",
      "[2019-09-02 02:56:31] Features: 1/4 -- score: 1.0[Parallel(n_jobs=1)]: Using backend SequentialBackend with 1 concurrent workers.\n",
      "[Parallel(n_jobs=1)]: Done   1 out of   1 | elapsed:    0.0s remaining:    0.0s\n",
      "[Parallel(n_jobs=1)]: Done 829 out of 829 | elapsed:   10.4s finished\n",
      "[Parallel(n_jobs=1)]: Using backend SequentialBackend with 1 concurrent workers.\n",
      "[Parallel(n_jobs=1)]: Done   1 out of   1 | elapsed:    0.0s remaining:    0.0s\n",
      "[Parallel(n_jobs=1)]: Done   1 out of   1 | elapsed:    0.0s finished\n",
      "\n",
      "[2019-09-02 02:56:41] Features: 2/4 -- score: 1.0[Parallel(n_jobs=1)]: Using backend SequentialBackend with 1 concurrent workers.\n",
      "[Parallel(n_jobs=1)]: Done   1 out of   1 | elapsed:    0.0s remaining:    0.0s\n",
      "[Parallel(n_jobs=1)]: Done 828 out of 828 | elapsed:   10.4s finished\n",
      "[Parallel(n_jobs=1)]: Using backend SequentialBackend with 1 concurrent workers.\n",
      "[Parallel(n_jobs=1)]: Done   1 out of   1 | elapsed:    0.0s remaining:    0.0s\n",
      "[Parallel(n_jobs=1)]: Done   2 out of   2 | elapsed:    0.0s finished\n",
      "\n",
      "[2019-09-02 02:56:52] Features: 3/4 -- score: 1.0[Parallel(n_jobs=1)]: Using backend SequentialBackend with 1 concurrent workers.\n",
      "[Parallel(n_jobs=1)]: Done   1 out of   1 | elapsed:    0.0s remaining:    0.0s\n"
     ]
    },
    {
     "name": "stdout",
     "output_type": "stream",
     "text": [
      "1.0\n"
     ]
    },
    {
     "name": "stderr",
     "output_type": "stream",
     "text": [
      "[Parallel(n_jobs=1)]: Done 827 out of 827 | elapsed:   11.7s finished\n",
      "[Parallel(n_jobs=1)]: Using backend SequentialBackend with 1 concurrent workers.\n",
      "[Parallel(n_jobs=1)]: Done   1 out of   1 | elapsed:    0.0s remaining:    0.0s\n",
      "[Parallel(n_jobs=1)]: Done   3 out of   3 | elapsed:    0.0s finished\n",
      "\n",
      "[2019-09-02 02:57:04] Features: 4/4 -- score: 1.0"
     ]
    }
   ],
   "source": [
    "MP = pd.concat([micro_papillary,papillary])\n",
    "MP = MP.sample(frac=1)\n",
    "X_MP_train = MP.iloc[:,:-1]\n",
    "X_MP_train = X_MP_train.values\n",
    "Y_MP_train = MP.iloc[:,-1]\n",
    "Y_MP_train = Y_MP_train.values\n",
    "\n",
    "knn = KNeighborsClassifier(n_neighbors = 4, weights = 'distance')\n",
    "\n",
    "sfs8 = sfs(knn, \n",
    "           k_features=4, \n",
    "           forward=True, \n",
    "           floating=True, \n",
    "           verbose=2,\n",
    "           scoring='accuracy',\n",
    "           cv=10)\n",
    "\n",
    "sfs8 = sfs8.fit(X_MP_train, Y_MP_train)\n",
    "feat_cols_8 = list(sfs8.k_feature_idx_)\n",
    "\n",
    "rfc8 = RandomForestClassifier(n_estimators=50, random_state=42, max_depth=10)\n",
    "# rfc8 = LogisticRegression(C=100, penalty='l2',max_iter=5000,solver='liblinear',class_weight='balanced')\n",
    "rfc8.fit(X_MP_train[:, feat_cols_8], Y_MP_train)\n",
    "\n",
    "print(rfc8.score(X_MP_train[:, feat_cols_8],Y_MP_train))"
   ]
  },
  {
   "cell_type": "code",
   "execution_count": 61,
   "metadata": {},
   "outputs": [
    {
     "name": "stderr",
     "output_type": "stream",
     "text": [
      "[Parallel(n_jobs=1)]: Using backend SequentialBackend with 1 concurrent workers.\n",
      "[Parallel(n_jobs=1)]: Done   1 out of   1 | elapsed:    0.0s remaining:    0.0s\n",
      "[Parallel(n_jobs=1)]: Done 830 out of 830 | elapsed:    7.9s finished\n",
      "\n",
      "[2019-09-02 02:57:12] Features: 1/5 -- score: 0.6262626262626264[Parallel(n_jobs=1)]: Using backend SequentialBackend with 1 concurrent workers.\n",
      "[Parallel(n_jobs=1)]: Done   1 out of   1 | elapsed:    0.0s remaining:    0.0s\n",
      "[Parallel(n_jobs=1)]: Done 829 out of 829 | elapsed:    7.6s finished\n",
      "[Parallel(n_jobs=1)]: Using backend SequentialBackend with 1 concurrent workers.\n",
      "[Parallel(n_jobs=1)]: Done   1 out of   1 | elapsed:    0.0s remaining:    0.0s\n",
      "[Parallel(n_jobs=1)]: Done   1 out of   1 | elapsed:    0.0s finished\n",
      "\n",
      "[2019-09-02 02:57:20] Features: 2/5 -- score: 0.8080808080808081[Parallel(n_jobs=1)]: Using backend SequentialBackend with 1 concurrent workers.\n",
      "[Parallel(n_jobs=1)]: Done   1 out of   1 | elapsed:    0.0s remaining:    0.0s\n",
      "[Parallel(n_jobs=1)]: Done 828 out of 828 | elapsed:    6.7s finished\n",
      "[Parallel(n_jobs=1)]: Using backend SequentialBackend with 1 concurrent workers.\n",
      "[Parallel(n_jobs=1)]: Done   1 out of   1 | elapsed:    0.0s remaining:    0.0s\n",
      "[Parallel(n_jobs=1)]: Done   2 out of   2 | elapsed:    0.0s finished\n",
      "\n",
      "[2019-09-02 02:57:27] Features: 3/5 -- score: 0.8653198653198653[Parallel(n_jobs=1)]: Using backend SequentialBackend with 1 concurrent workers.\n",
      "[Parallel(n_jobs=1)]: Done   1 out of   1 | elapsed:    0.0s remaining:    0.0s\n",
      "[Parallel(n_jobs=1)]: Done 827 out of 827 | elapsed:    6.8s finished\n",
      "[Parallel(n_jobs=1)]: Using backend SequentialBackend with 1 concurrent workers.\n",
      "[Parallel(n_jobs=1)]: Done   1 out of   1 | elapsed:    0.0s remaining:    0.0s\n",
      "[Parallel(n_jobs=1)]: Done   3 out of   3 | elapsed:    0.0s finished\n",
      "\n",
      "[2019-09-02 02:57:33] Features: 4/5 -- score: 0.9203142536475871[Parallel(n_jobs=1)]: Using backend SequentialBackend with 1 concurrent workers.\n",
      "[Parallel(n_jobs=1)]: Done   1 out of   1 | elapsed:    0.0s remaining:    0.0s\n"
     ]
    },
    {
     "name": "stdout",
     "output_type": "stream",
     "text": [
      "1.0\n"
     ]
    },
    {
     "name": "stderr",
     "output_type": "stream",
     "text": [
      "[Parallel(n_jobs=1)]: Done 826 out of 826 | elapsed:    6.9s finished\n",
      "[Parallel(n_jobs=1)]: Using backend SequentialBackend with 1 concurrent workers.\n",
      "[Parallel(n_jobs=1)]: Done   1 out of   1 | elapsed:    0.0s remaining:    0.0s\n",
      "[Parallel(n_jobs=1)]: Done   4 out of   4 | elapsed:    0.0s finished\n",
      "\n",
      "[2019-09-02 02:57:41] Features: 5/5 -- score: 0.9326599326599327"
     ]
    }
   ],
   "source": [
    "MS = pd.concat([micro_papillary,solid])\n",
    "MS = MS.sample(frac=1)\n",
    "X_MS_train = MS.iloc[:,:-1]\n",
    "X_MS_train = X_MS_train.values\n",
    "Y_MS_train = MS.iloc[:,-1]\n",
    "Y_MS_train = Y_MS_train.values\n",
    "\n",
    "# knn = KNeighborsClassifier(n_neighbors = 5, weights = 'uniform',n_jobs=-1)\n",
    "knn = LinearSVC(C=0.00001 , class_weight='balanced',max_iter=10000)\n",
    "\n",
    "sfs9 = sfs(knn, \n",
    "           k_features=5, \n",
    "           forward=True, \n",
    "           floating=True, \n",
    "           verbose=2,\n",
    "           scoring='accuracy',\n",
    "           cv=9)\n",
    "\n",
    "sfs9 = sfs9.fit(X_MS_train, Y_MS_train)\n",
    "feat_cols_9 = list(sfs9.k_feature_idx_)\n",
    "\n",
    "rfc9 = RandomForestClassifier(n_estimators=40, random_state=42, max_depth=5)\n",
    "# rfc9 = LogisticRegression(C=100, penalty='l2',max_iter=5000,solver='liblinear',class_weight='balanced')\n",
    "rfc9.fit(X_MS_train[:, feat_cols_9], Y_MS_train)\n",
    "\n",
    "print(rfc9.score(X_MS_train[:, feat_cols_9],Y_MS_train))"
   ]
  },
  {
   "cell_type": "code",
   "execution_count": 62,
   "metadata": {},
   "outputs": [
    {
     "name": "stderr",
     "output_type": "stream",
     "text": [
      "[Parallel(n_jobs=1)]: Using backend SequentialBackend with 1 concurrent workers.\n",
      "[Parallel(n_jobs=1)]: Done   1 out of   1 | elapsed:    0.0s remaining:    0.0s\n",
      "[Parallel(n_jobs=1)]: Done 830 out of 830 | elapsed:  1.7min finished\n",
      "\n",
      "[2019-09-02 02:59:23] Features: 1/3 -- score: 1.0[Parallel(n_jobs=1)]: Using backend SequentialBackend with 1 concurrent workers.\n",
      "[Parallel(n_jobs=1)]: Done   1 out of   1 | elapsed:    0.0s remaining:    0.0s\n",
      "[Parallel(n_jobs=1)]: Done 829 out of 829 | elapsed:  1.7min finished\n",
      "[Parallel(n_jobs=1)]: Using backend SequentialBackend with 1 concurrent workers.\n",
      "[Parallel(n_jobs=1)]: Done   1 out of   1 | elapsed:    0.0s remaining:    0.0s\n",
      "[Parallel(n_jobs=1)]: Done   1 out of   1 | elapsed:    0.0s finished\n",
      "\n",
      "[2019-09-02 03:01:03] Features: 2/3 -- score: 1.0[Parallel(n_jobs=1)]: Using backend SequentialBackend with 1 concurrent workers.\n",
      "[Parallel(n_jobs=1)]: Done   1 out of   1 | elapsed:    0.0s remaining:    0.0s\n",
      "[Parallel(n_jobs=1)]: Done 828 out of 828 | elapsed:  1.7min finished\n",
      "[Parallel(n_jobs=1)]: Using backend SequentialBackend with 1 concurrent workers.\n",
      "[Parallel(n_jobs=1)]: Done   1 out of   1 | elapsed:    0.0s remaining:    0.0s\n"
     ]
    },
    {
     "name": "stdout",
     "output_type": "stream",
     "text": [
      "1.0\n"
     ]
    },
    {
     "name": "stderr",
     "output_type": "stream",
     "text": [
      "[Parallel(n_jobs=1)]: Done   2 out of   2 | elapsed:    0.1s finished\n",
      "\n",
      "[2019-09-02 03:02:44] Features: 3/3 -- score: 1.0"
     ]
    }
   ],
   "source": [
    "PS = pd.concat([papillary,solid])\n",
    "PS = PS.sample(frac=1)\n",
    "X_PS_train = PS.iloc[:,:-1]\n",
    "X_PS_train = X_PS_train.values\n",
    "Y_PS_train = PS.iloc[:,-1]\n",
    "Y_PS_train = Y_PS_train.values\n",
    "\n",
    "knn = KNeighborsClassifier(n_neighbors = 4, weights = 'distance',n_jobs=-1)\n",
    "\n",
    "sfs10 = sfs(knn, \n",
    "           k_features=3, \n",
    "           forward=True, \n",
    "           floating=True, \n",
    "           verbose=2,\n",
    "           scoring='accuracy',\n",
    "           cv=9)\n",
    "\n",
    "sfs10 = sfs10.fit(X_PS_train, Y_PS_train)\n",
    "feat_cols_10 = list(sfs10.k_feature_idx_)\n",
    "\n",
    "rfc10 = RandomForestClassifier(n_estimators=50, random_state=42, max_depth=10)\n",
    "# rfc10 = LogisticRegression(C=0.01, penalty='l2',max_iter=5000,solver='liblinear',class_weight='balanced')\n",
    "rfc10.fit(X_PS_train[:, feat_cols_10], Y_PS_train)\n",
    "\n",
    "print(rfc10.score(X_PS_train[:, feat_cols_10],Y_PS_train))"
   ]
  },
  {
   "cell_type": "markdown",
   "metadata": {},
   "source": [
    "Since each classifier is going to give a predicted output, we need to define voting strategies to know what is the actual output using the score matrix given by the confidence score each classifier has in its prediction:"
   ]
  },
  {
   "cell_type": "code",
   "execution_count": 63,
   "metadata": {},
   "outputs": [],
   "source": [
    "def voting_strategy(M):\n",
    "    max=0\n",
    "    pred=1\n",
    "    for i in range(len(M)):\n",
    "        a=0\n",
    "        for j in range(len(M)):\n",
    "            if j!=i:\n",
    "                if M[i][j] > M[j][i]:\n",
    "                    s=1\n",
    "                else:\n",
    "                    s=0\n",
    "                a=a+s\n",
    "        if a>max:\n",
    "            max=a\n",
    "            pred=i\n",
    "    return pred+1\n",
    "\n",
    "#Taking into account the weight of the prediction score\n",
    "def weighted_voting_strategy(M):\n",
    "    max=0\n",
    "    pred=1\n",
    "    for i in range(len(M)):\n",
    "        a=0\n",
    "        for j in range(len(M)):\n",
    "            if j!=i:\n",
    "                a=a+M[i][j]\n",
    "        if a>max:\n",
    "            max=a\n",
    "            pred=i\n",
    "    return pred+1\n",
    "#Voting strategy eliminating successively the least likely predicted ouputs\n",
    "def output_strategy(M):\n",
    "    for i in range(len(M)-2):\n",
    "        a = np.sum(M, axis = 0)\n",
    "        minimoume=np.inf\n",
    "        for element in a:\n",
    "            if element >0 and element < minimoume:\n",
    "                minimoume = element\n",
    "        b = np.where(a == minimoume)\n",
    "        index = b[0][0]\n",
    "        M[:,index] = 0\n",
    "        M[index,:] = 0\n",
    "    prediction = np.where(M.T == np.max(M))\n",
    "    return prediction[0][0] +1"
   ]
  },
  {
   "cell_type": "code",
   "execution_count": 69,
   "metadata": {},
   "outputs": [
    {
     "name": "stdout",
     "output_type": "stream",
     "text": [
      "[3 3 3 1 4 3 3 3 1 1 3 3 3 4 1 1 1 3 1 4 3 1 1 1 3 1 4 1]\n",
      "[2 4 3 1 5 3 3 3 1 1 3 2 3 5 1 1 1 3 1 4 5 3 2 1 3 1 4 1]\n",
      "[ 1 -1  0  0 -1  0  0  0  0  0  0  1  0 -1  0  0  0  0  0  0 -2 -2 -1  0\n",
      "  0  0  0  0]\n",
      "0.7142857142857143\n"
     ]
    }
   ],
   "source": [
    "y_pred=[]\n",
    "for index_element, element in enumerate(X_test):\n",
    "    element_1 = element[feat_cols_1]\n",
    "    element_2 = element[feat_cols_2]\n",
    "    element_3 = element[feat_cols_3]\n",
    "    element_4 = element[feat_cols_4]\n",
    "    element_5 = element[feat_cols_5]\n",
    "    element_6 = element[feat_cols_6]\n",
    "    element_7 = element[feat_cols_7]\n",
    "    element_8 = element[feat_cols_8]\n",
    "    element_9 = element[feat_cols_9]\n",
    "    element_10 = element[feat_cols_10]\n",
    "    \n",
    "    element_1= element_1.reshape(1, -1)\n",
    "    element_2= element_2.reshape(1, -1)\n",
    "    element_3= element_3.reshape(1, -1)\n",
    "    element_4= element_4.reshape(1, -1)\n",
    "    element_5= element_5.reshape(1, -1)\n",
    "    element_6= element_6.reshape(1, -1)\n",
    "    element_7= element_7.reshape(1, -1)\n",
    "    element_8= element_8.reshape(1, -1)\n",
    "    element_9= element_9.reshape(1, -1)\n",
    "    element_10= element_10.reshape(1, -1)\n",
    "    \n",
    "    score_matrix = np.zeros((5,5))\n",
    "    score_matrix[0][2] = rfc1.predict_proba(element_1)[0][0]\n",
    "    score_matrix[0][3] = rfc2.predict_proba(element_2)[0][0]\n",
    "    score_matrix[0][1] = rfc3.predict_proba(element_3)[0][0]\n",
    "    score_matrix[0][4] = rfc4.predict_proba(element_4)[0][0]\n",
    "    score_matrix[2][3] = rfc5.predict_proba(element_5)[0][0]\n",
    "    score_matrix[1][2] = rfc6.predict_proba(element_6)[0][0]\n",
    "    score_matrix[2][4] = rfc7.predict_proba(element_7)[0][0]\n",
    "    score_matrix[1][3] = rfc8.predict_proba(element_8)[0][0]\n",
    "    score_matrix[3][4] = rfc9.predict_proba(element_9)[0][0]\n",
    "    score_matrix[1][4] = rfc10.predict_proba(element_10)[0][0]\n",
    "    \n",
    "    for i in range(1,5):\n",
    "        for j in range(i):\n",
    "            score_matrix[i][j] = 1-score_matrix[j][i]\n",
    "#     y_pred.append(voting_strategy(score_matrix))\n",
    "    y_pred.append(weighted_voting_strategy(score_matrix))\n",
    "#     y_pred.append(output_strategy(score_matrix.T))\n",
    "    \n",
    "    \n",
    "print(np.array(y_pred))\n",
    "print(Y_test)\n",
    "print(np.array(y_pred-Y_test))\n",
    "\n",
    "print(accuracy_score(Y_test, y_pred))"
   ]
  },
  {
   "cell_type": "code",
   "execution_count": 65,
   "metadata": {},
   "outputs": [],
   "source": [
    "#Plotting the confusion matrix\n",
    "from sklearn.metrics import confusion_matrix\n",
    "from sklearn.utils.multiclass import unique_labels\n",
    "\n",
    "def plot_confusion_matrix(y_true, y_pred,\n",
    "                          normalize=False,\n",
    "                          title=None,\n",
    "                          cmap=plt.cm.Blues):\n",
    "    \"\"\"\n",
    "    This function prints and plots the confusion matrix.\n",
    "    Normalization can be applied by setting `normalize=True`.\n",
    "    \"\"\"\n",
    "    if not title:\n",
    "        if normalize:\n",
    "            title = 'Normalized confusion matrix'\n",
    "        else:\n",
    "            title = 'Confusion matrix, without normalization'\n",
    "\n",
    "    # Compute confusion matrix\n",
    "    cm = confusion_matrix(y_true, y_pred)\n",
    "    # Only use the labels that appear in the data\n",
    "#     classes = classes[unique_labels(y_true, y_pred)]\n",
    "    if normalize:\n",
    "        cm = cm.astype('float') / cm.sum(axis=1)[:, np.newaxis]\n",
    "#         print(\"Normalized confusion matrix\")\n",
    "#     else:\n",
    "#         print('Confusion matrix')\n",
    "\n",
    "#     print(cm)\n",
    "\n",
    "    fig, ax = plt.subplots()\n",
    "    im = ax.imshow(cm, interpolation='nearest', cmap=cmap)\n",
    "    ax.figure.colorbar(im, ax=ax)\n",
    "    # We want to show all ticks...\n",
    "    ax.set(xticks=np.arange(cm.shape[1]),\n",
    "           yticks=np.arange(cm.shape[0]),\n",
    "           # ... and label them with the respective list entries\n",
    "#            xticklabels=classes, yticklabels=classes,\n",
    "           title=title,\n",
    "           ylabel='True label',\n",
    "           xlabel='Predicted label')\n",
    "\n",
    "    # Rotate the tick labels and set their alignment.\n",
    "    plt.setp(ax.get_xticklabels(), rotation=45, ha=\"right\",\n",
    "             rotation_mode=\"anchor\")\n",
    "\n",
    "    # Loop over data dimensions and create text annotations.\n",
    "    fmt = '.2f' if normalize else 'd'\n",
    "    thresh = cm.max() / 2.\n",
    "    for i in range(cm.shape[0]):\n",
    "        for j in range(cm.shape[1]):\n",
    "            ax.text(j, i, format(cm[i, j], fmt),\n",
    "                    ha=\"center\", va=\"center\",\n",
    "                    color=\"white\" if cm[i, j] > thresh else \"black\")\n",
    "    fig.tight_layout()\n",
    "    return ax\n",
    "\n",
    "\n",
    "np.set_printoptions(precision=2)"
   ]
  },
  {
   "cell_type": "code",
   "execution_count": 66,
   "metadata": {},
   "outputs": [
    {
     "data": {
      "text/plain": [
       "<matplotlib.axes._subplots.AxesSubplot at 0x2082deef048>"
      ]
     },
     "execution_count": 66,
     "metadata": {},
     "output_type": "execute_result"
    },
    {
     "data": {
      "image/png": "[encoded data removed]",
      "text/plain": [
       "<Figure size 432x288 with 2 Axes>"
      ]
     },
     "metadata": {
      "needs_background": "light"
     },
     "output_type": "display_data"
    }
   ],
   "source": [
    "plot_confusion_matrix(Y_test, y_pred,title='Confusion matrix')"
   ]
  },
  {
   "cell_type": "code",
   "execution_count": null,
   "metadata": {},
   "outputs": [],
   "source": []
  }
 ],
 "metadata": {
  "kernelspec": {
   "display_name": "Python 3",
   "language": "python",
   "name": "python3"
  },
  "language_info": {
   "codemirror_mode": {
    "name": "ipython",
    "version": 3
   },
   "file_extension": ".py",
   "mimetype": "text/x-python",
   "name": "python",
   "nbconvert_exporter": "python",
   "pygments_lexer": "ipython3",
   "version": "3.7.3"
  }
 },
 "nbformat": 4,
 "nbformat_minor": 2
}
